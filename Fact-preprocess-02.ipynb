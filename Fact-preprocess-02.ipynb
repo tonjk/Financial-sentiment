{
 "cells": [
  {
   "cell_type": "code",
   "execution_count": 1,
   "metadata": {},
   "outputs": [],
   "source": [
    "import re\n",
    "import string as st\n",
    "import pandas as pd\n",
    "import numpy as np\n",
    "import pickle\n",
    "from nltk.tokenize import word_tokenize, sent_tokenize\n",
    "import time"
   ]
  },
  {
   "cell_type": "code",
   "execution_count": 2,
   "metadata": {},
   "outputs": [],
   "source": [
    "def punc_clean(text):\n",
    "    text = str(text)\n",
    "    text = re.sub(r'http\\S+|www.\\S+', '', text)\n",
    "    text = re.sub(r'[\\w.+-]+@[\\w-]+\\.[\\w.-]+', '', text)\n",
    "    text = [w for w in text if w not in st.punctuation]\n",
    "    text = ''.join(text)\n",
    "    text = re.sub('\\d','',text)\n",
    "    text = re.sub(r'\\s+',' ', text)\n",
    "    text = text.strip()\n",
    "    return text"
   ]
  },
  {
   "cell_type": "code",
   "execution_count": 3,
   "metadata": {},
   "outputs": [
    {
     "data": {
      "text/html": [
       "<div>\n",
       "<style scoped>\n",
       "    .dataframe tbody tr th:only-of-type {\n",
       "        vertical-align: middle;\n",
       "    }\n",
       "\n",
       "    .dataframe tbody tr th {\n",
       "        vertical-align: top;\n",
       "    }\n",
       "\n",
       "    .dataframe thead th {\n",
       "        text-align: right;\n",
       "    }\n",
       "</style>\n",
       "<table border=\"1\" class=\"dataframe\">\n",
       "  <thead>\n",
       "    <tr style=\"text-align: right;\">\n",
       "      <th></th>\n",
       "      <th>GVKEY</th>\n",
       "      <th>Document</th>\n",
       "      <th>sentence</th>\n",
       "    </tr>\n",
       "  </thead>\n",
       "  <tbody>\n",
       "    <tr>\n",
       "      <th>13513719</th>\n",
       "      <td>29028</td>\n",
       "      <td>Document DJDN000020201210egca004bp</td>\n",
       "      <td>1435 ET - GE's settlement of the SEC's account...</td>\n",
       "    </tr>\n",
       "    <tr>\n",
       "      <th>10818808</th>\n",
       "      <td>2285</td>\n",
       "      <td>Document DJDN000020200312eg3c0061v</td>\n",
       "      <td>Long the biggest component on the DJIA index o...</td>\n",
       "    </tr>\n",
       "    <tr>\n",
       "      <th>10444379</th>\n",
       "      <td>2176</td>\n",
       "      <td>Document PRN0000020210527eh5r000oh</td>\n",
       "      <td>We have watched what he has built from afar an...</td>\n",
       "    </tr>\n",
       "    <tr>\n",
       "      <th>12081577</th>\n",
       "      <td>25283</td>\n",
       "      <td>Document DJDN000020210302eh32002ui</td>\n",
       "      <td>\"And, I think, to try and shoot the European m...</td>\n",
       "    </tr>\n",
       "    <tr>\n",
       "      <th>5630797</th>\n",
       "      <td>158053</td>\n",
       "      <td>Document DJDN000020200805eg85003n4</td>\n",
       "      <td>(1)  Our condensed consolidated balance sheets...</td>\n",
       "    </tr>\n",
       "  </tbody>\n",
       "</table>\n",
       "</div>"
      ],
      "text/plain": [
       "           GVKEY                            Document  \\\n",
       "13513719   29028  Document DJDN000020201210egca004bp   \n",
       "10818808    2285  Document DJDN000020200312eg3c0061v   \n",
       "10444379    2176  Document PRN0000020210527eh5r000oh   \n",
       "12081577   25283  Document DJDN000020210302eh32002ui   \n",
       "5630797   158053  Document DJDN000020200805eg85003n4   \n",
       "\n",
       "                                                   sentence  \n",
       "13513719  1435 ET - GE's settlement of the SEC's account...  \n",
       "10818808  Long the biggest component on the DJIA index o...  \n",
       "10444379  We have watched what he has built from afar an...  \n",
       "12081577  \"And, I think, to try and shoot the European m...  \n",
       "5630797   (1)  Our condensed consolidated balance sheets...  "
      ]
     },
     "execution_count": 3,
     "metadata": {},
     "output_type": "execute_result"
    }
   ],
   "source": [
    "df_sent = pd.read_csv('fact-sentence.csv')\n",
    "df_sent.sample(5)"
   ]
  },
  {
   "cell_type": "code",
   "execution_count": 4,
   "metadata": {},
   "outputs": [
    {
     "data": {
      "text/plain": [
       "(25062697, 3)"
      ]
     },
     "execution_count": 4,
     "metadata": {},
     "output_type": "execute_result"
    }
   ],
   "source": [
    "df_sent.shape"
   ]
  },
  {
   "cell_type": "code",
   "execution_count": 5,
   "metadata": {},
   "outputs": [
    {
     "data": {
      "text/html": [
       "<div>\n",
       "<style scoped>\n",
       "    .dataframe tbody tr th:only-of-type {\n",
       "        vertical-align: middle;\n",
       "    }\n",
       "\n",
       "    .dataframe tbody tr th {\n",
       "        vertical-align: top;\n",
       "    }\n",
       "\n",
       "    .dataframe thead th {\n",
       "        text-align: right;\n",
       "    }\n",
       "</style>\n",
       "<table border=\"1\" class=\"dataframe\">\n",
       "  <thead>\n",
       "    <tr style=\"text-align: right;\">\n",
       "      <th></th>\n",
       "      <th>GVKEY</th>\n",
       "      <th>Document</th>\n",
       "      <th>sentence</th>\n",
       "      <th>prep_text</th>\n",
       "    </tr>\n",
       "  </thead>\n",
       "  <tbody>\n",
       "    <tr>\n",
       "      <th>5796000</th>\n",
       "      <td>160329</td>\n",
       "      <td>Document BWR0000020200406eg46000et</td>\n",
       "      <td>Copyright Business Wire 2020</td>\n",
       "      <td>Copyright Business Wire</td>\n",
       "    </tr>\n",
       "    <tr>\n",
       "      <th>19543060</th>\n",
       "      <td>64356</td>\n",
       "      <td>Document DJDN000020200514eg5e002f5</td>\n",
       "      <td>BONN, Germany &amp; HANOVER, Md.--(BUSINESS WIRE)-...</td>\n",
       "      <td>BONN Germany HANOVER MdBUSINESS WIREMay</td>\n",
       "    </tr>\n",
       "    <tr>\n",
       "      <th>18202529</th>\n",
       "      <td>6066</td>\n",
       "      <td>Document PRN0000020200709eg790003f</td>\n",
       "      <td>6.1 Company Profiles</td>\n",
       "      <td>Company Profiles</td>\n",
       "    </tr>\n",
       "    <tr>\n",
       "      <th>22432955</th>\n",
       "      <td>7647</td>\n",
       "      <td>Document RNS0000020210310eh3a000sf</td>\n",
       "      <td>1.</td>\n",
       "      <td></td>\n",
       "    </tr>\n",
       "    <tr>\n",
       "      <th>7408499</th>\n",
       "      <td>17095</td>\n",
       "      <td>Document DJDN000020210720eh7k0017m</td>\n",
       "      <td>The California Public Employee        388,954 ...</td>\n",
       "      <td>The California Public Employee</td>\n",
       "    </tr>\n",
       "  </tbody>\n",
       "</table>\n",
       "</div>"
      ],
      "text/plain": [
       "           GVKEY                            Document  \\\n",
       "5796000   160329  Document BWR0000020200406eg46000et   \n",
       "19543060   64356  Document DJDN000020200514eg5e002f5   \n",
       "18202529    6066  Document PRN0000020200709eg790003f   \n",
       "22432955    7647  Document RNS0000020210310eh3a000sf   \n",
       "7408499    17095  Document DJDN000020210720eh7k0017m   \n",
       "\n",
       "                                                   sentence  \\\n",
       "5796000                        Copyright Business Wire 2020   \n",
       "19543060  BONN, Germany & HANOVER, Md.--(BUSINESS WIRE)-...   \n",
       "18202529                               6.1 Company Profiles   \n",
       "22432955                                                 1.   \n",
       "7408499   The California Public Employee        388,954 ...   \n",
       "\n",
       "                                        prep_text  \n",
       "5796000                   Copyright Business Wire  \n",
       "19543060  BONN Germany HANOVER MdBUSINESS WIREMay  \n",
       "18202529                         Company Profiles  \n",
       "22432955                                           \n",
       "7408499            The California Public Employee  "
      ]
     },
     "execution_count": 5,
     "metadata": {},
     "output_type": "execute_result"
    }
   ],
   "source": [
    "df_sent['prep_text'] = df_sent.sentence.apply(punc_clean)\n",
    "df_sent.sample(5)"
   ]
  },
  {
   "cell_type": "code",
   "execution_count": 6,
   "metadata": {
    "scrolled": true
   },
   "outputs": [],
   "source": [
    "# remove blank text\n",
    "df_sent = df_sent[df_sent.prep_text!=\"\"]"
   ]
  },
  {
   "cell_type": "code",
   "execution_count": null,
   "metadata": {
    "scrolled": false
   },
   "outputs": [],
   "source": [
    "df_sent['len_word'] = df_sent.prep_text.apply(word_tokenize).apply(len)"
   ]
  },
  {
   "cell_type": "code",
   "execution_count": 49,
   "metadata": {},
   "outputs": [
    {
     "data": {
      "text/plain": [
       "count    2.361900e+07\n",
       "mean     1.334503e+01\n",
       "std      1.851233e+01\n",
       "min      1.000000e+00\n",
       "25%      3.000000e+00\n",
       "50%      8.000000e+00\n",
       "75%      2.000000e+01\n",
       "max      1.529000e+03\n",
       "Name: len_word, dtype: float64"
      ]
     },
     "execution_count": 49,
     "metadata": {},
     "output_type": "execute_result"
    }
   ],
   "source": [
    "df_sent.len_word.describe()"
   ]
  },
  {
   "cell_type": "code",
   "execution_count": 4,
   "metadata": {},
   "outputs": [
    {
     "data": {
      "text/html": [
       "<div>\n",
       "<style scoped>\n",
       "    .dataframe tbody tr th:only-of-type {\n",
       "        vertical-align: middle;\n",
       "    }\n",
       "\n",
       "    .dataframe tbody tr th {\n",
       "        vertical-align: top;\n",
       "    }\n",
       "\n",
       "    .dataframe thead th {\n",
       "        text-align: right;\n",
       "    }\n",
       "</style>\n",
       "<table border=\"1\" class=\"dataframe\">\n",
       "  <thead>\n",
       "    <tr style=\"text-align: right;\">\n",
       "      <th></th>\n",
       "      <th>GVKEY</th>\n",
       "      <th>Document</th>\n",
       "      <th>sentence</th>\n",
       "      <th>prep_text</th>\n",
       "      <th>len_word</th>\n",
       "    </tr>\n",
       "  </thead>\n",
       "  <tbody>\n",
       "    <tr>\n",
       "      <th>10332063</th>\n",
       "      <td>5764</td>\n",
       "      <td>Document HUGNEN0020210727eh7r0035y</td>\n",
       "      <td>In connection with our restructuring and relat...</td>\n",
       "      <td>In connection with our restructuring and relat...</td>\n",
       "      <td>47</td>\n",
       "    </tr>\n",
       "    <tr>\n",
       "      <th>1063518</th>\n",
       "      <td>11856</td>\n",
       "      <td>Document DJDN000020201015egaf000zs</td>\n",
       "      <td>Earnings of $1.1 billion, or $0.79 per diluted...</td>\n",
       "      <td>Earnings of billion or per diluted share</td>\n",
       "      <td>7</td>\n",
       "    </tr>\n",
       "    <tr>\n",
       "      <th>2889354</th>\n",
       "      <td>149337</td>\n",
       "      <td>Document BWR0000020210202eh220006c</td>\n",
       "      <td>In 2020, Tradeweb facilitated trading for an a...</td>\n",
       "      <td>In Tradeweb facilitated trading for an average...</td>\n",
       "      <td>20</td>\n",
       "    </tr>\n",
       "    <tr>\n",
       "      <th>10817161</th>\n",
       "      <td>62374</td>\n",
       "      <td>Document DJDN000020200810eg8a002dz</td>\n",
       "      <td>recovery rating reflects our expectations of m...</td>\n",
       "      <td>recovery rating reflects our expectations of m...</td>\n",
       "      <td>8</td>\n",
       "    </tr>\n",
       "    <tr>\n",
       "      <th>3414462</th>\n",
       "      <td>160329</td>\n",
       "      <td>Document J000000020211022eham0000d</td>\n",
       "      <td>I think the EU's General Data Protection Regul...</td>\n",
       "      <td>I think the EUs General Data Protection Regula...</td>\n",
       "      <td>13</td>\n",
       "    </tr>\n",
       "  </tbody>\n",
       "</table>\n",
       "</div>"
      ],
      "text/plain": [
       "           GVKEY                            Document  \\\n",
       "10332063    5764  Document HUGNEN0020210727eh7r0035y   \n",
       "1063518    11856  Document DJDN000020201015egaf000zs   \n",
       "2889354   149337  Document BWR0000020210202eh220006c   \n",
       "10817161   62374  Document DJDN000020200810eg8a002dz   \n",
       "3414462   160329  Document J000000020211022eham0000d   \n",
       "\n",
       "                                                   sentence  \\\n",
       "10332063  In connection with our restructuring and relat...   \n",
       "1063518   Earnings of $1.1 billion, or $0.79 per diluted...   \n",
       "2889354   In 2020, Tradeweb facilitated trading for an a...   \n",
       "10817161  recovery rating reflects our expectations of m...   \n",
       "3414462   I think the EU's General Data Protection Regul...   \n",
       "\n",
       "                                                  prep_text  len_word  \n",
       "10332063  In connection with our restructuring and relat...        47  \n",
       "1063518            Earnings of billion or per diluted share         7  \n",
       "2889354   In Tradeweb facilitated trading for an average...        20  \n",
       "10817161  recovery rating reflects our expectations of m...         8  \n",
       "3414462   I think the EUs General Data Protection Regula...        13  "
      ]
     },
     "execution_count": 4,
     "metadata": {},
     "output_type": "execute_result"
    }
   ],
   "source": [
    "# select word length 5-50\n",
    "df_sent_drop = df_sent[(df_sent.len_word>4)&(df_sent.len_word<=50)]\n",
    "df_sent_drop.sample(5)"
   ]
  },
  {
   "cell_type": "code",
   "execution_count": 68,
   "metadata": {},
   "outputs": [],
   "source": [
    "# df_sent_drop.to_csv('prep_text.csv',index=False)"
   ]
  }
 ],
 "metadata": {
  "kernelspec": {
   "display_name": "Python 3",
   "language": "python",
   "name": "python3"
  },
  "language_info": {
   "codemirror_mode": {
    "name": "ipython",
    "version": 3
   },
   "file_extension": ".py",
   "mimetype": "text/x-python",
   "name": "python",
   "nbconvert_exporter": "python",
   "pygments_lexer": "ipython3",
   "version": "3.7.6"
  }
 },
 "nbformat": 4,
 "nbformat_minor": 4
}
