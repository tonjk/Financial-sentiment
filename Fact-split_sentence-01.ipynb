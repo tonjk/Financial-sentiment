{
  "nbformat": 4,
  "nbformat_minor": 0,
  "metadata": {
    "colab": {
      "name": "Copy of Fact-report.ipynb",
      "provenance": [],
      "collapsed_sections": [
        "0ChWBW3CXmUS"
      ]
    },
    "kernelspec": {
      "name": "python3",
      "display_name": "Python 3"
    },
    "language_info": {
      "name": "python"
    }
  },
  "cells": [
    {
      "cell_type": "code",
      "source": [
        "import nltk\n",
        "nltk.download('punkt')"
      ],
      "metadata": {
        "colab": {
          "base_uri": "https://localhost:8080/"
        },
        "id": "fP-T-rXBYql3",
        "outputId": "08f560fc-cc8c-44f2-ff3d-6400cacbd505"
      },
      "execution_count": null,
      "outputs": [
        {
          "output_type": "stream",
          "name": "stdout",
          "text": [
            "[nltk_data] Downloading package punkt to /root/nltk_data...\n",
            "[nltk_data]   Unzipping tokenizers/punkt.zip.\n"
          ]
        },
        {
          "output_type": "execute_result",
          "data": {
            "text/plain": [
              "True"
            ]
          },
          "metadata": {},
          "execution_count": 1
        }
      ]
    },
    {
      "cell_type": "code",
      "execution_count": 1,
      "metadata": {
        "id": "nugZVYRXSNOW"
      },
      "outputs": [],
      "source": [
        "import re\n",
        "import string as st\n",
        "import pandas as pd\n",
        "import numpy as np\n",
        "import pickle\n",
        "from nltk.tokenize import word_tokenize, sent_tokenize"
      ]
    },
    {
      "cell_type": "code",
      "source": [
        "def split_sent(text):\n",
        "    list_sent = []\n",
        "    for para in text.split('\\n'):\n",
        "      sentence = sent_tokenize(para)\n",
        "      for sent in sentence:\n",
        "        list_sent.append(sent)\n",
        "    return list_sent"
      ],
      "metadata": {
        "id": "JoQ4mtgVXfzw"
      },
      "execution_count": null,
      "outputs": []
    },
    {
      "cell_type": "markdown",
      "source": [
        "# Load data"
      ],
      "metadata": {
        "id": "0ChWBW3CXmUS"
      }
    },
    {
      "cell_type": "code",
      "source": [
        "df = pd.read_csv('/content/drive/MyDrive/Factiva/eda01_integration/eda_data.csv',\n",
        "                 usecols=['GVKEY','Document','new_data'])\n",
        "df.sample(5)"
      ],
      "metadata": {
        "colab": {
          "base_uri": "https://localhost:8080/",
          "height": 206
        },
        "id": "53R7S1TSTEUD",
        "outputId": "1c2d533a-9992-41aa-f2b3-553dcae180c0"
      },
      "execution_count": 3,
      "outputs": [
        {
          "output_type": "execute_result",
          "data": {
            "text/html": [
              "\n",
              "  <div id=\"df-3194adee-1cda-4443-94d5-aa129887db50\">\n",
              "    <div class=\"colab-df-container\">\n",
              "      <div>\n",
              "<style scoped>\n",
              "    .dataframe tbody tr th:only-of-type {\n",
              "        vertical-align: middle;\n",
              "    }\n",
              "\n",
              "    .dataframe tbody tr th {\n",
              "        vertical-align: top;\n",
              "    }\n",
              "\n",
              "    .dataframe thead th {\n",
              "        text-align: right;\n",
              "    }\n",
              "</style>\n",
              "<table border=\"1\" class=\"dataframe\">\n",
              "  <thead>\n",
              "    <tr style=\"text-align: right;\">\n",
              "      <th></th>\n",
              "      <th>GVKEY</th>\n",
              "      <th>Document</th>\n",
              "      <th>new_data</th>\n",
              "    </tr>\n",
              "  </thead>\n",
              "  <tbody>\n",
              "    <tr>\n",
              "      <th>360512</th>\n",
              "      <td>64768</td>\n",
              "      <td>Document RTNW000020200317eg3h000k0</td>\n",
              "      <td>Amazon.com Inc. plans to hire an additional 10...</td>\n",
              "    </tr>\n",
              "    <tr>\n",
              "      <th>63022</th>\n",
              "      <td>133869</td>\n",
              "      <td>Document DJDN000020200527eg5r001is</td>\n",
              "      <td>LivePerson to hold its Annual Meeting of Stock...</td>\n",
              "    </tr>\n",
              "    <tr>\n",
              "      <th>59031</th>\n",
              "      <td>12840</td>\n",
              "      <td>Document RTNW000020210719eh7j000fb</td>\n",
              "      <td>*Heartland Express 2Q Rev $154.1M &gt;HTLD\\n</td>\n",
              "    </tr>\n",
              "    <tr>\n",
              "      <th>349886</th>\n",
              "      <td>62979</td>\n",
              "      <td>Document PZON000020211012ehac000f9</td>\n",
              "      <td>Southside Bancshares, Inc. Announces Third Qua...</td>\n",
              "    </tr>\n",
              "    <tr>\n",
              "      <th>398682</th>\n",
              "      <td>7435</td>\n",
              "      <td>Document LBA0000020200410eg4a020rh</td>\n",
              "      <td>April 10 (Reuters) - 3M Co said it filed a law...</td>\n",
              "    </tr>\n",
              "  </tbody>\n",
              "</table>\n",
              "</div>\n",
              "      <button class=\"colab-df-convert\" onclick=\"convertToInteractive('df-3194adee-1cda-4443-94d5-aa129887db50')\"\n",
              "              title=\"Convert this dataframe to an interactive table.\"\n",
              "              style=\"display:none;\">\n",
              "        \n",
              "  <svg xmlns=\"http://www.w3.org/2000/svg\" height=\"24px\"viewBox=\"0 0 24 24\"\n",
              "       width=\"24px\">\n",
              "    <path d=\"M0 0h24v24H0V0z\" fill=\"none\"/>\n",
              "    <path d=\"M18.56 5.44l.94 2.06.94-2.06 2.06-.94-2.06-.94-.94-2.06-.94 2.06-2.06.94zm-11 1L8.5 8.5l.94-2.06 2.06-.94-2.06-.94L8.5 2.5l-.94 2.06-2.06.94zm10 10l.94 2.06.94-2.06 2.06-.94-2.06-.94-.94-2.06-.94 2.06-2.06.94z\"/><path d=\"M17.41 7.96l-1.37-1.37c-.4-.4-.92-.59-1.43-.59-.52 0-1.04.2-1.43.59L10.3 9.45l-7.72 7.72c-.78.78-.78 2.05 0 2.83L4 21.41c.39.39.9.59 1.41.59.51 0 1.02-.2 1.41-.59l7.78-7.78 2.81-2.81c.8-.78.8-2.07 0-2.86zM5.41 20L4 18.59l7.72-7.72 1.47 1.35L5.41 20z\"/>\n",
              "  </svg>\n",
              "      </button>\n",
              "      \n",
              "  <style>\n",
              "    .colab-df-container {\n",
              "      display:flex;\n",
              "      flex-wrap:wrap;\n",
              "      gap: 12px;\n",
              "    }\n",
              "\n",
              "    .colab-df-convert {\n",
              "      background-color: #E8F0FE;\n",
              "      border: none;\n",
              "      border-radius: 50%;\n",
              "      cursor: pointer;\n",
              "      display: none;\n",
              "      fill: #1967D2;\n",
              "      height: 32px;\n",
              "      padding: 0 0 0 0;\n",
              "      width: 32px;\n",
              "    }\n",
              "\n",
              "    .colab-df-convert:hover {\n",
              "      background-color: #E2EBFA;\n",
              "      box-shadow: 0px 1px 2px rgba(60, 64, 67, 0.3), 0px 1px 3px 1px rgba(60, 64, 67, 0.15);\n",
              "      fill: #174EA6;\n",
              "    }\n",
              "\n",
              "    [theme=dark] .colab-df-convert {\n",
              "      background-color: #3B4455;\n",
              "      fill: #D2E3FC;\n",
              "    }\n",
              "\n",
              "    [theme=dark] .colab-df-convert:hover {\n",
              "      background-color: #434B5C;\n",
              "      box-shadow: 0px 1px 3px 1px rgba(0, 0, 0, 0.15);\n",
              "      filter: drop-shadow(0px 1px 2px rgba(0, 0, 0, 0.3));\n",
              "      fill: #FFFFFF;\n",
              "    }\n",
              "  </style>\n",
              "\n",
              "      <script>\n",
              "        const buttonEl =\n",
              "          document.querySelector('#df-3194adee-1cda-4443-94d5-aa129887db50 button.colab-df-convert');\n",
              "        buttonEl.style.display =\n",
              "          google.colab.kernel.accessAllowed ? 'block' : 'none';\n",
              "\n",
              "        async function convertToInteractive(key) {\n",
              "          const element = document.querySelector('#df-3194adee-1cda-4443-94d5-aa129887db50');\n",
              "          const dataTable =\n",
              "            await google.colab.kernel.invokeFunction('convertToInteractive',\n",
              "                                                     [key], {});\n",
              "          if (!dataTable) return;\n",
              "\n",
              "          const docLinkHtml = 'Like what you see? Visit the ' +\n",
              "            '<a target=\"_blank\" href=https://colab.research.google.com/notebooks/data_table.ipynb>data table notebook</a>'\n",
              "            + ' to learn more about interactive tables.';\n",
              "          element.innerHTML = '';\n",
              "          dataTable['output_type'] = 'display_data';\n",
              "          await google.colab.output.renderOutput(dataTable, element);\n",
              "          const docLink = document.createElement('div');\n",
              "          docLink.innerHTML = docLinkHtml;\n",
              "          element.appendChild(docLink);\n",
              "        }\n",
              "      </script>\n",
              "    </div>\n",
              "  </div>\n",
              "  "
            ],
            "text/plain": [
              "         GVKEY  ...                                           new_data\n",
              "360512   64768  ...  Amazon.com Inc. plans to hire an additional 10...\n",
              "63022   133869  ...  LivePerson to hold its Annual Meeting of Stock...\n",
              "59031    12840  ...          *Heartland Express 2Q Rev $154.1M >HTLD\\n\n",
              "349886   62979  ...  Southside Bancshares, Inc. Announces Third Qua...\n",
              "398682    7435  ...  April 10 (Reuters) - 3M Co said it filed a law...\n",
              "\n",
              "[5 rows x 3 columns]"
            ]
          },
          "metadata": {},
          "execution_count": 3
        }
      ]
    },
    {
      "cell_type": "code",
      "source": [
        "df.shape"
      ],
      "metadata": {
        "colab": {
          "base_uri": "https://localhost:8080/"
        },
        "id": "8g7ouqOztMuc",
        "outputId": "11b8a94a-9375-490a-de11-ceee2e039b60"
      },
      "execution_count": 4,
      "outputs": [
        {
          "output_type": "execute_result",
          "data": {
            "text/plain": [
              "(454212, 3)"
            ]
          },
          "metadata": {},
          "execution_count": 4
        }
      ]
    },
    {
      "cell_type": "markdown",
      "source": [
        "# Split sentence"
      ],
      "metadata": {
        "id": "KVEfoQK6q76q"
      }
    },
    {
      "cell_type": "code",
      "source": [
        "df['sentence'] = df.new_data.apply(split_sent)\n",
        "df.head()"
      ],
      "metadata": {
        "colab": {
          "base_uri": "https://localhost:8080/",
          "height": 206
        },
        "id": "djZ7HuiArA1u",
        "outputId": "c3c4e94a-d283-444b-a8da-812bf3113fc3"
      },
      "execution_count": null,
      "outputs": [
        {
          "output_type": "execute_result",
          "data": {
            "text/html": [
              "\n",
              "  <div id=\"df-9ae3a448-c83c-414a-891f-1643936fb6d4\">\n",
              "    <div class=\"colab-df-container\">\n",
              "      <div>\n",
              "<style scoped>\n",
              "    .dataframe tbody tr th:only-of-type {\n",
              "        vertical-align: middle;\n",
              "    }\n",
              "\n",
              "    .dataframe tbody tr th {\n",
              "        vertical-align: top;\n",
              "    }\n",
              "\n",
              "    .dataframe thead th {\n",
              "        text-align: right;\n",
              "    }\n",
              "</style>\n",
              "<table border=\"1\" class=\"dataframe\">\n",
              "  <thead>\n",
              "    <tr style=\"text-align: right;\">\n",
              "      <th></th>\n",
              "      <th>GVKEY</th>\n",
              "      <th>Document</th>\n",
              "      <th>new_data</th>\n",
              "      <th>sentence</th>\n",
              "    </tr>\n",
              "  </thead>\n",
              "  <tbody>\n",
              "    <tr>\n",
              "      <th>0</th>\n",
              "      <td>10000</td>\n",
              "      <td>Document PRN0000020200417eg4h000es</td>\n",
              "      <td>NEW YORK, April 17, 2020 /PRNewswire/ -- Stand...</td>\n",
              "      <td>[NEW YORK, April 17, 2020 /PRNewswire/ -- Stan...</td>\n",
              "    </tr>\n",
              "    <tr>\n",
              "      <th>1</th>\n",
              "      <td>10000</td>\n",
              "      <td>Document PRN0000020200306eg36000ei</td>\n",
              "      <td>NEW YORK, March 6, 2020 /PRNewswire/ -- Standa...</td>\n",
              "      <td>[NEW YORK, March 6, 2020 /PRNewswire/ -- Stand...</td>\n",
              "    </tr>\n",
              "    <tr>\n",
              "      <th>2</th>\n",
              "      <td>10000</td>\n",
              "      <td>Document PRN0000020210505eh55000gx</td>\n",
              "      <td>NEW YORK, May 5, 2021 /PRNewswire/ -- Standard...</td>\n",
              "      <td>[NEW YORK, May 5, 2021 /PRNewswire/ -- Standar...</td>\n",
              "    </tr>\n",
              "    <tr>\n",
              "      <th>3</th>\n",
              "      <td>10000</td>\n",
              "      <td>Document PRN0000020210225eh2p0008f</td>\n",
              "      <td>NEW YORK, Feb. 25, 2021 /PRNewswire/ -- Standa...</td>\n",
              "      <td>[NEW YORK, Feb. 25, 2021 /PRNewswire/ -- Stand...</td>\n",
              "    </tr>\n",
              "    <tr>\n",
              "      <th>4</th>\n",
              "      <td>10000</td>\n",
              "      <td>Document PRN0000020200513eg5d0009c</td>\n",
              "      <td>NEW YORK, May 13, 2020 /PRNewswire/ -- Standar...</td>\n",
              "      <td>[NEW YORK, May 13, 2020 /PRNewswire/ -- Standa...</td>\n",
              "    </tr>\n",
              "  </tbody>\n",
              "</table>\n",
              "</div>\n",
              "      <button class=\"colab-df-convert\" onclick=\"convertToInteractive('df-9ae3a448-c83c-414a-891f-1643936fb6d4')\"\n",
              "              title=\"Convert this dataframe to an interactive table.\"\n",
              "              style=\"display:none;\">\n",
              "        \n",
              "  <svg xmlns=\"http://www.w3.org/2000/svg\" height=\"24px\"viewBox=\"0 0 24 24\"\n",
              "       width=\"24px\">\n",
              "    <path d=\"M0 0h24v24H0V0z\" fill=\"none\"/>\n",
              "    <path d=\"M18.56 5.44l.94 2.06.94-2.06 2.06-.94-2.06-.94-.94-2.06-.94 2.06-2.06.94zm-11 1L8.5 8.5l.94-2.06 2.06-.94-2.06-.94L8.5 2.5l-.94 2.06-2.06.94zm10 10l.94 2.06.94-2.06 2.06-.94-2.06-.94-.94-2.06-.94 2.06-2.06.94z\"/><path d=\"M17.41 7.96l-1.37-1.37c-.4-.4-.92-.59-1.43-.59-.52 0-1.04.2-1.43.59L10.3 9.45l-7.72 7.72c-.78.78-.78 2.05 0 2.83L4 21.41c.39.39.9.59 1.41.59.51 0 1.02-.2 1.41-.59l7.78-7.78 2.81-2.81c.8-.78.8-2.07 0-2.86zM5.41 20L4 18.59l7.72-7.72 1.47 1.35L5.41 20z\"/>\n",
              "  </svg>\n",
              "      </button>\n",
              "      \n",
              "  <style>\n",
              "    .colab-df-container {\n",
              "      display:flex;\n",
              "      flex-wrap:wrap;\n",
              "      gap: 12px;\n",
              "    }\n",
              "\n",
              "    .colab-df-convert {\n",
              "      background-color: #E8F0FE;\n",
              "      border: none;\n",
              "      border-radius: 50%;\n",
              "      cursor: pointer;\n",
              "      display: none;\n",
              "      fill: #1967D2;\n",
              "      height: 32px;\n",
              "      padding: 0 0 0 0;\n",
              "      width: 32px;\n",
              "    }\n",
              "\n",
              "    .colab-df-convert:hover {\n",
              "      background-color: #E2EBFA;\n",
              "      box-shadow: 0px 1px 2px rgba(60, 64, 67, 0.3), 0px 1px 3px 1px rgba(60, 64, 67, 0.15);\n",
              "      fill: #174EA6;\n",
              "    }\n",
              "\n",
              "    [theme=dark] .colab-df-convert {\n",
              "      background-color: #3B4455;\n",
              "      fill: #D2E3FC;\n",
              "    }\n",
              "\n",
              "    [theme=dark] .colab-df-convert:hover {\n",
              "      background-color: #434B5C;\n",
              "      box-shadow: 0px 1px 3px 1px rgba(0, 0, 0, 0.15);\n",
              "      filter: drop-shadow(0px 1px 2px rgba(0, 0, 0, 0.3));\n",
              "      fill: #FFFFFF;\n",
              "    }\n",
              "  </style>\n",
              "\n",
              "      <script>\n",
              "        const buttonEl =\n",
              "          document.querySelector('#df-9ae3a448-c83c-414a-891f-1643936fb6d4 button.colab-df-convert');\n",
              "        buttonEl.style.display =\n",
              "          google.colab.kernel.accessAllowed ? 'block' : 'none';\n",
              "\n",
              "        async function convertToInteractive(key) {\n",
              "          const element = document.querySelector('#df-9ae3a448-c83c-414a-891f-1643936fb6d4');\n",
              "          const dataTable =\n",
              "            await google.colab.kernel.invokeFunction('convertToInteractive',\n",
              "                                                     [key], {});\n",
              "          if (!dataTable) return;\n",
              "\n",
              "          const docLinkHtml = 'Like what you see? Visit the ' +\n",
              "            '<a target=\"_blank\" href=https://colab.research.google.com/notebooks/data_table.ipynb>data table notebook</a>'\n",
              "            + ' to learn more about interactive tables.';\n",
              "          element.innerHTML = '';\n",
              "          dataTable['output_type'] = 'display_data';\n",
              "          await google.colab.output.renderOutput(dataTable, element);\n",
              "          const docLink = document.createElement('div');\n",
              "          docLink.innerHTML = docLinkHtml;\n",
              "          element.appendChild(docLink);\n",
              "        }\n",
              "      </script>\n",
              "    </div>\n",
              "  </div>\n",
              "  "
            ],
            "text/plain": [
              "   GVKEY  ...                                           sentence\n",
              "0  10000  ...  [NEW YORK, April 17, 2020 /PRNewswire/ -- Stan...\n",
              "1  10000  ...  [NEW YORK, March 6, 2020 /PRNewswire/ -- Stand...\n",
              "2  10000  ...  [NEW YORK, May 5, 2021 /PRNewswire/ -- Standar...\n",
              "3  10000  ...  [NEW YORK, Feb. 25, 2021 /PRNewswire/ -- Stand...\n",
              "4  10000  ...  [NEW YORK, May 13, 2020 /PRNewswire/ -- Standa...\n",
              "\n",
              "[5 rows x 4 columns]"
            ]
          },
          "metadata": {},
          "execution_count": 8
        }
      ]
    },
    {
      "cell_type": "code",
      "source": [
        "gvkey,doc,sent=[],[],[]\n",
        "for i,j,k in zip(df.GVKEY,df.Document,df.sentence):\n",
        "  for s in k:\n",
        "    gvkey.append(i)\n",
        "    doc.append(j)\n",
        "    sent.append(s)\n",
        "print(len(gvkey),len(doc),len(sent))"
      ],
      "metadata": {
        "colab": {
          "base_uri": "https://localhost:8080/"
        },
        "id": "zIbVSPAYvd0R",
        "outputId": "d61541bb-db04-4ec8-d40f-601b105da41a"
      },
      "execution_count": null,
      "outputs": [
        {
          "output_type": "stream",
          "name": "stdout",
          "text": [
            "25062697 25062697 25062697\n"
          ]
        }
      ]
    },
    {
      "cell_type": "code",
      "source": [
        "df_sent = pd.DataFrame({'GVKEY':gvkey, 'Document':doc, 'sentence':sent})\n",
        "df_sent"
      ],
      "metadata": {
        "colab": {
          "base_uri": "https://localhost:8080/",
          "height": 423
        },
        "id": "tt2u3c1awJOc",
        "outputId": "16935c5e-7d2a-47ba-869a-098a07ae6bc8"
      },
      "execution_count": null,
      "outputs": [
        {
          "output_type": "execute_result",
          "data": {
            "text/html": [
              "\n",
              "  <div id=\"df-1ff7797c-199c-4579-8a2a-273f710ded61\">\n",
              "    <div class=\"colab-df-container\">\n",
              "      <div>\n",
              "<style scoped>\n",
              "    .dataframe tbody tr th:only-of-type {\n",
              "        vertical-align: middle;\n",
              "    }\n",
              "\n",
              "    .dataframe tbody tr th {\n",
              "        vertical-align: top;\n",
              "    }\n",
              "\n",
              "    .dataframe thead th {\n",
              "        text-align: right;\n",
              "    }\n",
              "</style>\n",
              "<table border=\"1\" class=\"dataframe\">\n",
              "  <thead>\n",
              "    <tr style=\"text-align: right;\">\n",
              "      <th></th>\n",
              "      <th>GVKEY</th>\n",
              "      <th>Document</th>\n",
              "      <th>sentence</th>\n",
              "    </tr>\n",
              "  </thead>\n",
              "  <tbody>\n",
              "    <tr>\n",
              "      <th>0</th>\n",
              "      <td>10000</td>\n",
              "      <td>Document PRN0000020200417eg4h000es</td>\n",
              "      <td>NEW YORK, April 17, 2020 /PRNewswire/ -- Stand...</td>\n",
              "    </tr>\n",
              "    <tr>\n",
              "      <th>1</th>\n",
              "      <td>10000</td>\n",
              "      <td>Document PRN0000020200417eg4h000es</td>\n",
              "      <td>Olivia Newton, Director of Category Management...</td>\n",
              "    </tr>\n",
              "    <tr>\n",
              "      <th>2</th>\n",
              "      <td>10000</td>\n",
              "      <td>Document PRN0000020200417eg4h000es</td>\n",
              "      <td>The WiAC organization is dedicated to the adva...</td>\n",
              "    </tr>\n",
              "    <tr>\n",
              "      <th>3</th>\n",
              "      <td>10000</td>\n",
              "      <td>Document PRN0000020200417eg4h000es</td>\n",
              "      <td>\"I'm tremendously honored to represent both Wo...</td>\n",
              "    </tr>\n",
              "    <tr>\n",
              "      <th>4</th>\n",
              "      <td>10000</td>\n",
              "      <td>Document PRN0000020200417eg4h000es</td>\n",
              "      <td>\"I believe strongly in the community's mission...</td>\n",
              "    </tr>\n",
              "    <tr>\n",
              "      <th>...</th>\n",
              "      <td>...</td>\n",
              "      <td>...</td>\n",
              "      <td>...</td>\n",
              "    </tr>\n",
              "    <tr>\n",
              "      <th>25062692</th>\n",
              "      <td>9919</td>\n",
              "      <td>Document DJDN000020210805eh8500288</td>\n",
              "      <td>5 Aug 2021 07:33 ET *Shyft Group 2Q Sales $244...</td>\n",
              "    </tr>\n",
              "    <tr>\n",
              "      <th>25062693</th>\n",
              "      <td>9919</td>\n",
              "      <td>Document DJDN000020210805eh8500288</td>\n",
              "      <td>5 Aug 2021 07:34 ET *Shyft Group 2Q Adj EPS 53...</td>\n",
              "    </tr>\n",
              "    <tr>\n",
              "      <th>25062694</th>\n",
              "      <td>9919</td>\n",
              "      <td>Document DJDN000020210805eh8500288</td>\n",
              "      <td>5 Aug 2021 07:35 ET *Shyft Group Sees FY Rev $...</td>\n",
              "    </tr>\n",
              "    <tr>\n",
              "      <th>25062695</th>\n",
              "      <td>9919</td>\n",
              "      <td>Document DJDN000020210805eh8500288</td>\n",
              "      <td>5 Aug 2021 07:35 ET *Shyft Group Sees FY EPS $...</td>\n",
              "    </tr>\n",
              "    <tr>\n",
              "      <th>25062696</th>\n",
              "      <td>9919</td>\n",
              "      <td>Document DJDN000020210805eh8500288</td>\n",
              "      <td>5 Aug 2021 07:35 ET *Shyft Group Sees FY Adj E...</td>\n",
              "    </tr>\n",
              "  </tbody>\n",
              "</table>\n",
              "<p>25062697 rows × 3 columns</p>\n",
              "</div>\n",
              "      <button class=\"colab-df-convert\" onclick=\"convertToInteractive('df-1ff7797c-199c-4579-8a2a-273f710ded61')\"\n",
              "              title=\"Convert this dataframe to an interactive table.\"\n",
              "              style=\"display:none;\">\n",
              "        \n",
              "  <svg xmlns=\"http://www.w3.org/2000/svg\" height=\"24px\"viewBox=\"0 0 24 24\"\n",
              "       width=\"24px\">\n",
              "    <path d=\"M0 0h24v24H0V0z\" fill=\"none\"/>\n",
              "    <path d=\"M18.56 5.44l.94 2.06.94-2.06 2.06-.94-2.06-.94-.94-2.06-.94 2.06-2.06.94zm-11 1L8.5 8.5l.94-2.06 2.06-.94-2.06-.94L8.5 2.5l-.94 2.06-2.06.94zm10 10l.94 2.06.94-2.06 2.06-.94-2.06-.94-.94-2.06-.94 2.06-2.06.94z\"/><path d=\"M17.41 7.96l-1.37-1.37c-.4-.4-.92-.59-1.43-.59-.52 0-1.04.2-1.43.59L10.3 9.45l-7.72 7.72c-.78.78-.78 2.05 0 2.83L4 21.41c.39.39.9.59 1.41.59.51 0 1.02-.2 1.41-.59l7.78-7.78 2.81-2.81c.8-.78.8-2.07 0-2.86zM5.41 20L4 18.59l7.72-7.72 1.47 1.35L5.41 20z\"/>\n",
              "  </svg>\n",
              "      </button>\n",
              "      \n",
              "  <style>\n",
              "    .colab-df-container {\n",
              "      display:flex;\n",
              "      flex-wrap:wrap;\n",
              "      gap: 12px;\n",
              "    }\n",
              "\n",
              "    .colab-df-convert {\n",
              "      background-color: #E8F0FE;\n",
              "      border: none;\n",
              "      border-radius: 50%;\n",
              "      cursor: pointer;\n",
              "      display: none;\n",
              "      fill: #1967D2;\n",
              "      height: 32px;\n",
              "      padding: 0 0 0 0;\n",
              "      width: 32px;\n",
              "    }\n",
              "\n",
              "    .colab-df-convert:hover {\n",
              "      background-color: #E2EBFA;\n",
              "      box-shadow: 0px 1px 2px rgba(60, 64, 67, 0.3), 0px 1px 3px 1px rgba(60, 64, 67, 0.15);\n",
              "      fill: #174EA6;\n",
              "    }\n",
              "\n",
              "    [theme=dark] .colab-df-convert {\n",
              "      background-color: #3B4455;\n",
              "      fill: #D2E3FC;\n",
              "    }\n",
              "\n",
              "    [theme=dark] .colab-df-convert:hover {\n",
              "      background-color: #434B5C;\n",
              "      box-shadow: 0px 1px 3px 1px rgba(0, 0, 0, 0.15);\n",
              "      filter: drop-shadow(0px 1px 2px rgba(0, 0, 0, 0.3));\n",
              "      fill: #FFFFFF;\n",
              "    }\n",
              "  </style>\n",
              "\n",
              "      <script>\n",
              "        const buttonEl =\n",
              "          document.querySelector('#df-1ff7797c-199c-4579-8a2a-273f710ded61 button.colab-df-convert');\n",
              "        buttonEl.style.display =\n",
              "          google.colab.kernel.accessAllowed ? 'block' : 'none';\n",
              "\n",
              "        async function convertToInteractive(key) {\n",
              "          const element = document.querySelector('#df-1ff7797c-199c-4579-8a2a-273f710ded61');\n",
              "          const dataTable =\n",
              "            await google.colab.kernel.invokeFunction('convertToInteractive',\n",
              "                                                     [key], {});\n",
              "          if (!dataTable) return;\n",
              "\n",
              "          const docLinkHtml = 'Like what you see? Visit the ' +\n",
              "            '<a target=\"_blank\" href=https://colab.research.google.com/notebooks/data_table.ipynb>data table notebook</a>'\n",
              "            + ' to learn more about interactive tables.';\n",
              "          element.innerHTML = '';\n",
              "          dataTable['output_type'] = 'display_data';\n",
              "          await google.colab.output.renderOutput(dataTable, element);\n",
              "          const docLink = document.createElement('div');\n",
              "          docLink.innerHTML = docLinkHtml;\n",
              "          element.appendChild(docLink);\n",
              "        }\n",
              "      </script>\n",
              "    </div>\n",
              "  </div>\n",
              "  "
            ],
            "text/plain": [
              "          GVKEY  ...                                           sentence\n",
              "0         10000  ...  NEW YORK, April 17, 2020 /PRNewswire/ -- Stand...\n",
              "1         10000  ...  Olivia Newton, Director of Category Management...\n",
              "2         10000  ...  The WiAC organization is dedicated to the adva...\n",
              "3         10000  ...  \"I'm tremendously honored to represent both Wo...\n",
              "4         10000  ...  \"I believe strongly in the community's mission...\n",
              "...         ...  ...                                                ...\n",
              "25062692   9919  ...  5 Aug 2021 07:33 ET *Shyft Group 2Q Sales $244...\n",
              "25062693   9919  ...  5 Aug 2021 07:34 ET *Shyft Group 2Q Adj EPS 53...\n",
              "25062694   9919  ...  5 Aug 2021 07:35 ET *Shyft Group Sees FY Rev $...\n",
              "25062695   9919  ...  5 Aug 2021 07:35 ET *Shyft Group Sees FY EPS $...\n",
              "25062696   9919  ...  5 Aug 2021 07:35 ET *Shyft Group Sees FY Adj E...\n",
              "\n",
              "[25062697 rows x 3 columns]"
            ]
          },
          "metadata": {},
          "execution_count": 13
        }
      ]
    },
    {
      "cell_type": "code",
      "source": [
        "# df_sent.to_csv('/content/drive/MyDrive/Factiva/Report/fact-sentence.csv',index=False)"
      ],
      "metadata": {
        "id": "DjuDUtAyyzWL"
      },
      "execution_count": null,
      "outputs": []
    }
  ]
}